{
  "nbformat": 4,
  "nbformat_minor": 0,
  "metadata": {
    "colab": {
      "provenance": [],
      "authorship_tag": "ABX9TyPwmHL63Fx4m65LsllqQ9je",
      "include_colab_link": true
    },
    "kernelspec": {
      "name": "python3",
      "display_name": "Python 3"
    },
    "language_info": {
      "name": "python"
    }
  },
  "cells": [
    {
      "cell_type": "markdown",
      "metadata": {
        "id": "view-in-github",
        "colab_type": "text"
      },
      "source": [
        "<a href=\"https://colab.research.google.com/github/natalie2103/CS103/blob/main/Activity6.ipynb\" target=\"_parent\"><img src=\"https://colab.research.google.com/assets/colab-badge.svg\" alt=\"Open In Colab\"/></a>"
      ]
    },
    {
      "cell_type": "code",
      "execution_count": 1,
      "metadata": {
        "colab": {
          "base_uri": "https://localhost:8080/"
        },
        "id": "Xr_h3D-3LAaj",
        "outputId": "4ee80576-0c1b-4c44-d3a2-7f4b265dfe35"
      },
      "outputs": [
        {
          "output_type": "stream",
          "name": "stdout",
          "text": [
            "Mounted at /gdrive\n",
            "/gdrive\n"
          ]
        }
      ],
      "source": [
        "from google.colab import drive\n",
        "drive.mount('/gdrive')\n",
        "%cd /gdrive"
      ]
    },
    {
      "cell_type": "code",
      "source": [
        "import pandas as pd\n",
        "car_data = pd.read_csv(\"/gdrive/MyDrive/Colab Notebooks/car_data.csv\")\n",
        "\n",
        "print(car_data.head())"
      ],
      "metadata": {
        "colab": {
          "base_uri": "https://localhost:8080/"
        },
        "id": "MHWpGfMHLOkW",
        "outputId": "2245aaff-1905-4247-c581-bab1e7c782fa"
      },
      "execution_count": 6,
      "outputs": [
        {
          "output_type": "stream",
          "name": "stdout",
          "text": [
            "   symboling normalized-losses         make fuel-type aspiration num-of-doors  \\\n",
            "0          3                 ?  alfa-romero       gas        std          two   \n",
            "1          3                 ?  alfa-romero       gas        std          two   \n",
            "2          1                 ?  alfa-romero       gas        std          two   \n",
            "3          2               164         audi       gas        std         four   \n",
            "4          2               164         audi       gas        std         four   \n",
            "\n",
            "    body-style drive-wheels engine-location  wheel-base  ...  engine-size  \\\n",
            "0  convertible          rwd           front        88.6  ...          130   \n",
            "1  convertible          rwd           front        88.6  ...          130   \n",
            "2    hatchback          rwd           front        94.5  ...          152   \n",
            "3        sedan          fwd           front        99.8  ...          109   \n",
            "4        sedan          4wd           front        99.4  ...          136   \n",
            "\n",
            "   fuel-system  bore  stroke compression-ratio horsepower  peak-rpm city-mpg  \\\n",
            "0         mpfi  3.47    2.68               9.0        111      5000       21   \n",
            "1         mpfi  3.47    2.68               9.0        111      5000       21   \n",
            "2         mpfi  2.68    3.47               9.0        154      5000       19   \n",
            "3         mpfi  3.19     3.4              10.0        102      5500       24   \n",
            "4         mpfi  3.19     3.4               8.0        115      5500       18   \n",
            "\n",
            "  highway-mpg  price  \n",
            "0          27  13495  \n",
            "1          27  16500  \n",
            "2          26  16500  \n",
            "3          30  13950  \n",
            "4          22  17450  \n",
            "\n",
            "[5 rows x 26 columns]\n"
          ]
        }
      ]
    },
    {
      "cell_type": "markdown",
      "source": [
        "**Get column height from df**"
      ],
      "metadata": {
        "id": "nHYTafsXU44R"
      }
    },
    {
      "cell_type": "code",
      "source": [
        "import pandas as pd\n",
        "\n",
        "car_data[\"height\"]\n",
        "\n",
        "height = car_data[\"height\"]\n",
        "print(height)\n"
      ],
      "metadata": {
        "colab": {
          "base_uri": "https://localhost:8080/"
        },
        "id": "vekaxjZXP3qv",
        "outputId": "80b4ec36-9cee-4c96-ef0a-97c090d92d96"
      },
      "execution_count": 17,
      "outputs": [
        {
          "output_type": "stream",
          "name": "stdout",
          "text": [
            "0      48.8\n",
            "1      48.8\n",
            "2      52.4\n",
            "3      54.3\n",
            "4      54.3\n",
            "       ... \n",
            "200    55.5\n",
            "201    55.5\n",
            "202    55.5\n",
            "203    55.5\n",
            "204    55.5\n",
            "Name: height, Length: 205, dtype: float64\n"
          ]
        }
      ]
    },
    {
      "cell_type": "markdown",
      "source": [
        " Calculate mean, median and mode of data \"height\""
      ],
      "metadata": {
        "id": "tdfly8g6Vrff"
      }
    },
    {
      "cell_type": "code",
      "source": [
        "import pandas as pd\n",
        "\n",
        "mean = height.mean()\n",
        "median = height.median()\n",
        "mode = height.mode()\n",
        "print(mean, median, mode)"
      ],
      "metadata": {
        "colab": {
          "base_uri": "https://localhost:8080/"
        },
        "id": "rD-daqDBUTn-",
        "outputId": "e1305e25-5dd9-4693-ad1f-9b72cea28b78"
      },
      "execution_count": 18,
      "outputs": [
        {
          "output_type": "stream",
          "name": "stdout",
          "text": [
            "53.72487804878049 54.1 0    50.8\n",
            "Name: height, dtype: float64\n"
          ]
        }
      ]
    },
    {
      "cell_type": "markdown",
      "source": [
        "**Discuss the result**"
      ],
      "metadata": {
        "id": "Cz4nfJtZboB4"
      }
    },
    {
      "cell_type": "markdown",
      "source": [
        "The mean and median are relatively close, suggesting a fairly symmetrical distribution, with no extreme outliers that might skew the data significantly.\n",
        "The mode is lower than both the mean and the median, suggesting that more frequent values tend to be on the lower end of the dataset.\n",
        "This could indicate a slight skew in the data, potentially with a concentration of values around the mode and a few higher values pulling up the mean."
      ],
      "metadata": {
        "id": "v_MihaylXVMX"
      }
    },
    {
      "cell_type": "code",
      "source": [
        "import pandas as pd\n",
        "\n",
        "std_dev = car_data[\"height\"].std()\n",
        "variance = car_data[\"height\"].var()\n",
        "\n",
        "print(\"Standard Deviation:\", std_dev)\n",
        "print(\"Variance:\", variance)"
      ],
      "metadata": {
        "colab": {
          "base_uri": "https://localhost:8080/"
        },
        "id": "tnB3xgZvSV_G",
        "outputId": "56b0f345-f53c-4388-dfb6-24fc8c174d82"
      },
      "execution_count": 20,
      "outputs": [
        {
          "output_type": "stream",
          "name": "stdout",
          "text": [
            "Standard Deviation: 2.4435219699049044\n",
            "Variance: 5.970799617407946\n"
          ]
        }
      ]
    },
    {
      "cell_type": "markdown",
      "source": [
        "**Discuss the result**"
      ],
      "metadata": {
        "id": "6BBv0aKZbq4f"
      }
    },
    {
      "cell_type": "markdown",
      "source": [
        "On standard deviation, tells us that, on average, height values are about 2.44 units away from the mean. A low standard deviation means that most height values are close to the average, with only slight differences.\n",
        "\n",
        "The variance is just the square of the standard deviation, giving us a similar idea of how spread out the values are. While it's used in calculations, standard deviation is easier to interpret for practical purposes.\n",
        "\n",
        "The low standard deviation and variance suggest that the heights in this dataset don’t vary much; they are mostly clustered around the mean of 53.72, with minimal spread. The data is fairly consistent and not heavily skewed."
      ],
      "metadata": {
        "id": "1w-0NR0AYsqn"
      }
    },
    {
      "cell_type": "code",
      "source": [
        "import pandas as pd\n",
        "\n",
        "car_data.describe()"
      ],
      "metadata": {
        "colab": {
          "base_uri": "https://localhost:8080/",
          "height": 300
        },
        "id": "dll8pfTwRwWG",
        "outputId": "730f0c34-d792-40c9-8b11-791c2cfc0387"
      },
      "execution_count": 14,
      "outputs": [
        {
          "output_type": "execute_result",
          "data": {
            "text/plain": [
              "        symboling  wheel-base      length       width      height  \\\n",
              "count  205.000000  205.000000  205.000000  205.000000  205.000000   \n",
              "mean     0.834146   98.756585  174.049268   65.907805   53.724878   \n",
              "std      1.245307    6.021776   12.337289    2.145204    2.443522   \n",
              "min     -2.000000   86.600000  141.100000   60.300000   47.800000   \n",
              "25%      0.000000   94.500000  166.300000   64.100000   52.000000   \n",
              "50%      1.000000   97.000000  173.200000   65.500000   54.100000   \n",
              "75%      2.000000  102.400000  183.100000   66.900000   55.500000   \n",
              "max      3.000000  120.900000  208.100000   72.300000   59.800000   \n",
              "\n",
              "       curb-weight  engine-size  compression-ratio    city-mpg  highway-mpg  \n",
              "count   205.000000   205.000000         205.000000  205.000000   205.000000  \n",
              "mean   2555.565854   126.907317          10.142537   25.219512    30.751220  \n",
              "std     520.680204    41.642693           3.972040    6.542142     6.886443  \n",
              "min    1488.000000    61.000000           7.000000   13.000000    16.000000  \n",
              "25%    2145.000000    97.000000           8.600000   19.000000    25.000000  \n",
              "50%    2414.000000   120.000000           9.000000   24.000000    30.000000  \n",
              "75%    2935.000000   141.000000           9.400000   30.000000    34.000000  \n",
              "max    4066.000000   326.000000          23.000000   49.000000    54.000000  "
            ],
            "text/html": [
              "\n",
              "  <div id=\"df-90b7938b-c641-462e-9d90-efee45202e9c\" class=\"colab-df-container\">\n",
              "    <div>\n",
              "<style scoped>\n",
              "    .dataframe tbody tr th:only-of-type {\n",
              "        vertical-align: middle;\n",
              "    }\n",
              "\n",
              "    .dataframe tbody tr th {\n",
              "        vertical-align: top;\n",
              "    }\n",
              "\n",
              "    .dataframe thead th {\n",
              "        text-align: right;\n",
              "    }\n",
              "</style>\n",
              "<table border=\"1\" class=\"dataframe\">\n",
              "  <thead>\n",
              "    <tr style=\"text-align: right;\">\n",
              "      <th></th>\n",
              "      <th>symboling</th>\n",
              "      <th>wheel-base</th>\n",
              "      <th>length</th>\n",
              "      <th>width</th>\n",
              "      <th>height</th>\n",
              "      <th>curb-weight</th>\n",
              "      <th>engine-size</th>\n",
              "      <th>compression-ratio</th>\n",
              "      <th>city-mpg</th>\n",
              "      <th>highway-mpg</th>\n",
              "    </tr>\n",
              "  </thead>\n",
              "  <tbody>\n",
              "    <tr>\n",
              "      <th>count</th>\n",
              "      <td>205.000000</td>\n",
              "      <td>205.000000</td>\n",
              "      <td>205.000000</td>\n",
              "      <td>205.000000</td>\n",
              "      <td>205.000000</td>\n",
              "      <td>205.000000</td>\n",
              "      <td>205.000000</td>\n",
              "      <td>205.000000</td>\n",
              "      <td>205.000000</td>\n",
              "      <td>205.000000</td>\n",
              "    </tr>\n",
              "    <tr>\n",
              "      <th>mean</th>\n",
              "      <td>0.834146</td>\n",
              "      <td>98.756585</td>\n",
              "      <td>174.049268</td>\n",
              "      <td>65.907805</td>\n",
              "      <td>53.724878</td>\n",
              "      <td>2555.565854</td>\n",
              "      <td>126.907317</td>\n",
              "      <td>10.142537</td>\n",
              "      <td>25.219512</td>\n",
              "      <td>30.751220</td>\n",
              "    </tr>\n",
              "    <tr>\n",
              "      <th>std</th>\n",
              "      <td>1.245307</td>\n",
              "      <td>6.021776</td>\n",
              "      <td>12.337289</td>\n",
              "      <td>2.145204</td>\n",
              "      <td>2.443522</td>\n",
              "      <td>520.680204</td>\n",
              "      <td>41.642693</td>\n",
              "      <td>3.972040</td>\n",
              "      <td>6.542142</td>\n",
              "      <td>6.886443</td>\n",
              "    </tr>\n",
              "    <tr>\n",
              "      <th>min</th>\n",
              "      <td>-2.000000</td>\n",
              "      <td>86.600000</td>\n",
              "      <td>141.100000</td>\n",
              "      <td>60.300000</td>\n",
              "      <td>47.800000</td>\n",
              "      <td>1488.000000</td>\n",
              "      <td>61.000000</td>\n",
              "      <td>7.000000</td>\n",
              "      <td>13.000000</td>\n",
              "      <td>16.000000</td>\n",
              "    </tr>\n",
              "    <tr>\n",
              "      <th>25%</th>\n",
              "      <td>0.000000</td>\n",
              "      <td>94.500000</td>\n",
              "      <td>166.300000</td>\n",
              "      <td>64.100000</td>\n",
              "      <td>52.000000</td>\n",
              "      <td>2145.000000</td>\n",
              "      <td>97.000000</td>\n",
              "      <td>8.600000</td>\n",
              "      <td>19.000000</td>\n",
              "      <td>25.000000</td>\n",
              "    </tr>\n",
              "    <tr>\n",
              "      <th>50%</th>\n",
              "      <td>1.000000</td>\n",
              "      <td>97.000000</td>\n",
              "      <td>173.200000</td>\n",
              "      <td>65.500000</td>\n",
              "      <td>54.100000</td>\n",
              "      <td>2414.000000</td>\n",
              "      <td>120.000000</td>\n",
              "      <td>9.000000</td>\n",
              "      <td>24.000000</td>\n",
              "      <td>30.000000</td>\n",
              "    </tr>\n",
              "    <tr>\n",
              "      <th>75%</th>\n",
              "      <td>2.000000</td>\n",
              "      <td>102.400000</td>\n",
              "      <td>183.100000</td>\n",
              "      <td>66.900000</td>\n",
              "      <td>55.500000</td>\n",
              "      <td>2935.000000</td>\n",
              "      <td>141.000000</td>\n",
              "      <td>9.400000</td>\n",
              "      <td>30.000000</td>\n",
              "      <td>34.000000</td>\n",
              "    </tr>\n",
              "    <tr>\n",
              "      <th>max</th>\n",
              "      <td>3.000000</td>\n",
              "      <td>120.900000</td>\n",
              "      <td>208.100000</td>\n",
              "      <td>72.300000</td>\n",
              "      <td>59.800000</td>\n",
              "      <td>4066.000000</td>\n",
              "      <td>326.000000</td>\n",
              "      <td>23.000000</td>\n",
              "      <td>49.000000</td>\n",
              "      <td>54.000000</td>\n",
              "    </tr>\n",
              "  </tbody>\n",
              "</table>\n",
              "</div>\n",
              "    <div class=\"colab-df-buttons\">\n",
              "\n",
              "  <div class=\"colab-df-container\">\n",
              "    <button class=\"colab-df-convert\" onclick=\"convertToInteractive('df-90b7938b-c641-462e-9d90-efee45202e9c')\"\n",
              "            title=\"Convert this dataframe to an interactive table.\"\n",
              "            style=\"display:none;\">\n",
              "\n",
              "  <svg xmlns=\"http://www.w3.org/2000/svg\" height=\"24px\" viewBox=\"0 -960 960 960\">\n",
              "    <path d=\"M120-120v-720h720v720H120Zm60-500h600v-160H180v160Zm220 220h160v-160H400v160Zm0 220h160v-160H400v160ZM180-400h160v-160H180v160Zm440 0h160v-160H620v160ZM180-180h160v-160H180v160Zm440 0h160v-160H620v160Z\"/>\n",
              "  </svg>\n",
              "    </button>\n",
              "\n",
              "  <style>\n",
              "    .colab-df-container {\n",
              "      display:flex;\n",
              "      gap: 12px;\n",
              "    }\n",
              "\n",
              "    .colab-df-convert {\n",
              "      background-color: #E8F0FE;\n",
              "      border: none;\n",
              "      border-radius: 50%;\n",
              "      cursor: pointer;\n",
              "      display: none;\n",
              "      fill: #1967D2;\n",
              "      height: 32px;\n",
              "      padding: 0 0 0 0;\n",
              "      width: 32px;\n",
              "    }\n",
              "\n",
              "    .colab-df-convert:hover {\n",
              "      background-color: #E2EBFA;\n",
              "      box-shadow: 0px 1px 2px rgba(60, 64, 67, 0.3), 0px 1px 3px 1px rgba(60, 64, 67, 0.15);\n",
              "      fill: #174EA6;\n",
              "    }\n",
              "\n",
              "    .colab-df-buttons div {\n",
              "      margin-bottom: 4px;\n",
              "    }\n",
              "\n",
              "    [theme=dark] .colab-df-convert {\n",
              "      background-color: #3B4455;\n",
              "      fill: #D2E3FC;\n",
              "    }\n",
              "\n",
              "    [theme=dark] .colab-df-convert:hover {\n",
              "      background-color: #434B5C;\n",
              "      box-shadow: 0px 1px 3px 1px rgba(0, 0, 0, 0.15);\n",
              "      filter: drop-shadow(0px 1px 2px rgba(0, 0, 0, 0.3));\n",
              "      fill: #FFFFFF;\n",
              "    }\n",
              "  </style>\n",
              "\n",
              "    <script>\n",
              "      const buttonEl =\n",
              "        document.querySelector('#df-90b7938b-c641-462e-9d90-efee45202e9c button.colab-df-convert');\n",
              "      buttonEl.style.display =\n",
              "        google.colab.kernel.accessAllowed ? 'block' : 'none';\n",
              "\n",
              "      async function convertToInteractive(key) {\n",
              "        const element = document.querySelector('#df-90b7938b-c641-462e-9d90-efee45202e9c');\n",
              "        const dataTable =\n",
              "          await google.colab.kernel.invokeFunction('convertToInteractive',\n",
              "                                                    [key], {});\n",
              "        if (!dataTable) return;\n",
              "\n",
              "        const docLinkHtml = 'Like what you see? Visit the ' +\n",
              "          '<a target=\"_blank\" href=https://colab.research.google.com/notebooks/data_table.ipynb>data table notebook</a>'\n",
              "          + ' to learn more about interactive tables.';\n",
              "        element.innerHTML = '';\n",
              "        dataTable['output_type'] = 'display_data';\n",
              "        await google.colab.output.renderOutput(dataTable, element);\n",
              "        const docLink = document.createElement('div');\n",
              "        docLink.innerHTML = docLinkHtml;\n",
              "        element.appendChild(docLink);\n",
              "      }\n",
              "    </script>\n",
              "  </div>\n",
              "\n",
              "\n",
              "<div id=\"df-f0e550f6-ee72-4ad6-9663-dbc4afde492a\">\n",
              "  <button class=\"colab-df-quickchart\" onclick=\"quickchart('df-f0e550f6-ee72-4ad6-9663-dbc4afde492a')\"\n",
              "            title=\"Suggest charts\"\n",
              "            style=\"display:none;\">\n",
              "\n",
              "<svg xmlns=\"http://www.w3.org/2000/svg\" height=\"24px\"viewBox=\"0 0 24 24\"\n",
              "     width=\"24px\">\n",
              "    <g>\n",
              "        <path d=\"M19 3H5c-1.1 0-2 .9-2 2v14c0 1.1.9 2 2 2h14c1.1 0 2-.9 2-2V5c0-1.1-.9-2-2-2zM9 17H7v-7h2v7zm4 0h-2V7h2v10zm4 0h-2v-4h2v4z\"/>\n",
              "    </g>\n",
              "</svg>\n",
              "  </button>\n",
              "\n",
              "<style>\n",
              "  .colab-df-quickchart {\n",
              "      --bg-color: #E8F0FE;\n",
              "      --fill-color: #1967D2;\n",
              "      --hover-bg-color: #E2EBFA;\n",
              "      --hover-fill-color: #174EA6;\n",
              "      --disabled-fill-color: #AAA;\n",
              "      --disabled-bg-color: #DDD;\n",
              "  }\n",
              "\n",
              "  [theme=dark] .colab-df-quickchart {\n",
              "      --bg-color: #3B4455;\n",
              "      --fill-color: #D2E3FC;\n",
              "      --hover-bg-color: #434B5C;\n",
              "      --hover-fill-color: #FFFFFF;\n",
              "      --disabled-bg-color: #3B4455;\n",
              "      --disabled-fill-color: #666;\n",
              "  }\n",
              "\n",
              "  .colab-df-quickchart {\n",
              "    background-color: var(--bg-color);\n",
              "    border: none;\n",
              "    border-radius: 50%;\n",
              "    cursor: pointer;\n",
              "    display: none;\n",
              "    fill: var(--fill-color);\n",
              "    height: 32px;\n",
              "    padding: 0;\n",
              "    width: 32px;\n",
              "  }\n",
              "\n",
              "  .colab-df-quickchart:hover {\n",
              "    background-color: var(--hover-bg-color);\n",
              "    box-shadow: 0 1px 2px rgba(60, 64, 67, 0.3), 0 1px 3px 1px rgba(60, 64, 67, 0.15);\n",
              "    fill: var(--button-hover-fill-color);\n",
              "  }\n",
              "\n",
              "  .colab-df-quickchart-complete:disabled,\n",
              "  .colab-df-quickchart-complete:disabled:hover {\n",
              "    background-color: var(--disabled-bg-color);\n",
              "    fill: var(--disabled-fill-color);\n",
              "    box-shadow: none;\n",
              "  }\n",
              "\n",
              "  .colab-df-spinner {\n",
              "    border: 2px solid var(--fill-color);\n",
              "    border-color: transparent;\n",
              "    border-bottom-color: var(--fill-color);\n",
              "    animation:\n",
              "      spin 1s steps(1) infinite;\n",
              "  }\n",
              "\n",
              "  @keyframes spin {\n",
              "    0% {\n",
              "      border-color: transparent;\n",
              "      border-bottom-color: var(--fill-color);\n",
              "      border-left-color: var(--fill-color);\n",
              "    }\n",
              "    20% {\n",
              "      border-color: transparent;\n",
              "      border-left-color: var(--fill-color);\n",
              "      border-top-color: var(--fill-color);\n",
              "    }\n",
              "    30% {\n",
              "      border-color: transparent;\n",
              "      border-left-color: var(--fill-color);\n",
              "      border-top-color: var(--fill-color);\n",
              "      border-right-color: var(--fill-color);\n",
              "    }\n",
              "    40% {\n",
              "      border-color: transparent;\n",
              "      border-right-color: var(--fill-color);\n",
              "      border-top-color: var(--fill-color);\n",
              "    }\n",
              "    60% {\n",
              "      border-color: transparent;\n",
              "      border-right-color: var(--fill-color);\n",
              "    }\n",
              "    80% {\n",
              "      border-color: transparent;\n",
              "      border-right-color: var(--fill-color);\n",
              "      border-bottom-color: var(--fill-color);\n",
              "    }\n",
              "    90% {\n",
              "      border-color: transparent;\n",
              "      border-bottom-color: var(--fill-color);\n",
              "    }\n",
              "  }\n",
              "</style>\n",
              "\n",
              "  <script>\n",
              "    async function quickchart(key) {\n",
              "      const quickchartButtonEl =\n",
              "        document.querySelector('#' + key + ' button');\n",
              "      quickchartButtonEl.disabled = true;  // To prevent multiple clicks.\n",
              "      quickchartButtonEl.classList.add('colab-df-spinner');\n",
              "      try {\n",
              "        const charts = await google.colab.kernel.invokeFunction(\n",
              "            'suggestCharts', [key], {});\n",
              "      } catch (error) {\n",
              "        console.error('Error during call to suggestCharts:', error);\n",
              "      }\n",
              "      quickchartButtonEl.classList.remove('colab-df-spinner');\n",
              "      quickchartButtonEl.classList.add('colab-df-quickchart-complete');\n",
              "    }\n",
              "    (() => {\n",
              "      let quickchartButtonEl =\n",
              "        document.querySelector('#df-f0e550f6-ee72-4ad6-9663-dbc4afde492a button');\n",
              "      quickchartButtonEl.style.display =\n",
              "        google.colab.kernel.accessAllowed ? 'block' : 'none';\n",
              "    })();\n",
              "  </script>\n",
              "</div>\n",
              "\n",
              "    </div>\n",
              "  </div>\n"
            ],
            "application/vnd.google.colaboratory.intrinsic+json": {
              "type": "dataframe",
              "summary": "{\n  \"name\": \"car_data\",\n  \"rows\": 8,\n  \"fields\": [\n    {\n      \"column\": \"symboling\",\n      \"properties\": {\n        \"dtype\": \"number\",\n        \"std\": 72.18619738012798,\n        \"min\": -2.0,\n        \"max\": 205.0,\n        \"num_unique_values\": 8,\n        \"samples\": [\n          0.8341463414634146,\n          1.0,\n          205.0\n        ],\n        \"semantic_type\": \"\",\n        \"description\": \"\"\n      }\n    },\n    {\n      \"column\": \"wheel-base\",\n      \"properties\": {\n        \"dtype\": \"number\",\n        \"std\": 54.121837757672914,\n        \"min\": 6.021775685025572,\n        \"max\": 205.0,\n        \"num_unique_values\": 8,\n        \"samples\": [\n          98.75658536585367,\n          97.0,\n          205.0\n        ],\n        \"semantic_type\": \"\",\n        \"description\": \"\"\n      }\n    },\n    {\n      \"column\": \"length\",\n      \"properties\": {\n        \"dtype\": \"number\",\n        \"std\": 62.57530527897738,\n        \"min\": 12.337288526555186,\n        \"max\": 208.1,\n        \"num_unique_values\": 8,\n        \"samples\": [\n          174.04926829268288,\n          173.2,\n          205.0\n        ],\n        \"semantic_type\": \"\",\n        \"description\": \"\"\n      }\n    },\n    {\n      \"column\": \"width\",\n      \"properties\": {\n        \"dtype\": \"number\",\n        \"std\": 57.05631291349402,\n        \"min\": 2.1452038526871817,\n        \"max\": 205.0,\n        \"num_unique_values\": 8,\n        \"samples\": [\n          65.90780487804878,\n          65.5,\n          205.0\n        ],\n        \"semantic_type\": \"\",\n        \"description\": \"\"\n      }\n    },\n    {\n      \"column\": \"height\",\n      \"properties\": {\n        \"dtype\": \"number\",\n        \"std\": 58.952696962027126,\n        \"min\": 2.4435219699049044,\n        \"max\": 205.0,\n        \"num_unique_values\": 8,\n        \"samples\": [\n          53.72487804878049,\n          54.1,\n          205.0\n        ],\n        \"semantic_type\": \"\",\n        \"description\": \"\"\n      }\n    },\n    {\n      \"column\": \"curb-weight\",\n      \"properties\": {\n        \"dtype\": \"number\",\n        \"std\": 1270.6950351955225,\n        \"min\": 205.0,\n        \"max\": 4066.0,\n        \"num_unique_values\": 8,\n        \"samples\": [\n          2555.5658536585365,\n          2414.0,\n          205.0\n        ],\n        \"semantic_type\": \"\",\n        \"description\": \"\"\n      }\n    },\n    {\n      \"column\": \"engine-size\",\n      \"properties\": {\n        \"dtype\": \"number\",\n        \"std\": 90.36221973782494,\n        \"min\": 41.642693438179826,\n        \"max\": 326.0,\n        \"num_unique_values\": 8,\n        \"samples\": [\n          126.90731707317073,\n          120.0,\n          205.0\n        ],\n        \"semantic_type\": \"\",\n        \"description\": \"\"\n      }\n    },\n    {\n      \"column\": \"compression-ratio\",\n      \"properties\": {\n        \"dtype\": \"number\",\n        \"std\": 69.11177355262139,\n        \"min\": 3.972040321863297,\n        \"max\": 205.0,\n        \"num_unique_values\": 8,\n        \"samples\": [\n          10.142536585365855,\n          9.0,\n          205.0\n        ],\n        \"semantic_type\": \"\",\n        \"description\": \"\"\n      }\n    },\n    {\n      \"column\": \"city-mpg\",\n      \"properties\": {\n        \"dtype\": \"number\",\n        \"std\": 65.28506994468985,\n        \"min\": 6.54214165300162,\n        \"max\": 205.0,\n        \"num_unique_values\": 8,\n        \"samples\": [\n          25.21951219512195,\n          24.0,\n          205.0\n        ],\n        \"semantic_type\": \"\",\n        \"description\": \"\"\n      }\n    },\n    {\n      \"column\": \"highway-mpg\",\n      \"properties\": {\n        \"dtype\": \"number\",\n        \"std\": 64.0390049599267,\n        \"min\": 6.88644313094182,\n        \"max\": 205.0,\n        \"num_unique_values\": 8,\n        \"samples\": [\n          30.75121951219512,\n          30.0,\n          205.0\n        ],\n        \"semantic_type\": \"\",\n        \"description\": \"\"\n      }\n    }\n  ]\n}"
            }
          },
          "metadata": {},
          "execution_count": 14
        }
      ]
    },
    {
      "cell_type": "markdown",
      "source": [
        "**Summarize the categorical data is by using the function value_counts()**"
      ],
      "metadata": {
        "id": "a5cuwI9hbWTX"
      }
    },
    {
      "cell_type": "code",
      "source": [
        "import pandas as pd\n",
        "import matplotlib.pyplot as plt\n",
        "\n",
        "car_data.make.value_counts() .nlargest(30) .plot(kind='bar',\n",
        "figsize=(14,8))\n",
        "plt.title(\"Number of cars by make\")\n",
        "plt.ylabel('Number of cars')\n",
        "plt.xlabel('Make of the cars')\n",
        "plt.show()"
      ],
      "metadata": {
        "colab": {
          "base_uri": "https://localhost:8080/",
          "height": 811
        },
        "id": "YUXPPCCvLqbW",
        "outputId": "a90b198c-9589-474e-ffdf-173885274ebb"
      },
      "execution_count": 15,
      "outputs": [
        {
          "output_type": "display_data",
          "data": {
            "text/plain": [
              "<Figure size 1400x800 with 1 Axes>"
            ],
            "image/png": "[encoded data removed]"
          },
          "metadata": {}
        }
      ]
    },
    {
      "cell_type": "markdown",
      "source": [
        "**Discuss the result**"
      ],
      "metadata": {
        "id": "nJhVuWoJbL4Y"
      }
    },
    {
      "cell_type": "markdown",
      "source": [
        "Toyota appears to be the most prevalent car make, with over 30 cars in the dataset. This could indicate Toyota's popularity, reliability, or the presence of a large number of Toyota models in this specific dataset.\n",
        "Following Toyota, brands like Nissan, Mazda, Mitsubishi, and Honda have relatively high counts. This suggests that these brands are also popular or commonly found in the dataset, though they do not reach Toyota’s frequency level.\n",
        "After the top five or six makes, the counts decline gradually, with each make representing fewer cars in the dataset. This could indicate that while some brands are very common, there’s a wide variety of other brands represented in smaller numbers.\n",
        "Brands at the end of the chart, such as Mercury, Renault, and Alfa-Romeo, have the fewest cars in the dataset. These brands could either be less popular or less available in the region or time period represented by the dataset."
      ],
      "metadata": {
        "id": "cWjdK9HAawsA"
      }
    }
  ]
}