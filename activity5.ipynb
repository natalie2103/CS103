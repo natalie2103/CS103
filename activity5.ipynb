{
  "nbformat": 4,
  "nbformat_minor": 0,
  "metadata": {
    "colab": {
      "provenance": [],
      "authorship_tag": "ABX9TyPHTE/Sp9Xwj0LF/L449tVp",
      "include_colab_link": true
    },
    "kernelspec": {
      "name": "python3",
      "display_name": "Python 3"
    },
    "language_info": {
      "name": "python"
    }
  },
  "cells": [
    {
      "cell_type": "markdown",
      "metadata": {
        "id": "view-in-github",
        "colab_type": "text"
      },
      "source": [
        "<a href=\"https://colab.research.google.com/github/natalie2103/CS103/blob/main/activity5.ipynb\" target=\"_parent\"><img src=\"https://colab.research.google.com/assets/colab-badge.svg\" alt=\"Open In Colab\"/></a>"
      ]
    },
    {
      "cell_type": "code",
      "execution_count": null,
      "metadata": {
        "colab": {
          "base_uri": "https://localhost:8080/"
        },
        "id": "TlLXfzbm7IpF",
        "outputId": "bdfa511f-ac94-42eb-faae-27f9fbe95f01"
      },
      "outputs": [
        {
          "output_type": "stream",
          "name": "stdout",
          "text": [
            "Mounted at /gdrive\n",
            "/gdrive\n"
          ]
        }
      ],
      "source": [
        "from google.colab import drive\n",
        "drive.mount('/gdrive')\n",
        "%cd /gdrive"
      ]
    },
    {
      "cell_type": "markdown",
      "source": [
        "**Read the datasets**"
      ],
      "metadata": {
        "id": "4v8EPwfQ_1Es"
      }
    },
    {
      "cell_type": "code",
      "source": [
        "import pandas as pd\n",
        "math_grade = pd.read_csv(\"/gdrive/MyDrive/Colab Notebooks/student_grade_math.csv\")\n",
        "science_grade = pd.read_csv(\"/gdrive/MyDrive/Colab Notebooks/student_grade_science.csv\")\n",
        "\n",
        "print(math_grade)\n",
        "print(science_grade)"
      ],
      "metadata": {
        "colab": {
          "base_uri": "https://localhost:8080/"
        },
        "id": "LLcoepgY8OP3",
        "outputId": "cadee7b5-bc18-4e0f-bbc6-d13eac0626da"
      },
      "execution_count": 30,
      "outputs": [
        {
          "output_type": "stream",
          "name": "stdout",
          "text": [
            "   STUDENT GRADES           Unnamed: 1  Unnamed: 2\n",
            "0             NaN                  NaN         NaN\n",
            "1            MALE                  NaN         NaN\n",
            "2             No.                 Name  Math grade\n",
            "3               1      Jones, Richard           57\n",
            "4               2       Jones, Charles          81\n",
            "5               3      Brown, Richard          100\n",
            "6               4      Johnson, James           55\n",
            "7               5   Rodriguez, Joseph           64\n",
            "8               6      Miller, Thomas           75\n",
            "9               7      Williams, John           71\n",
            "10              8  Rodriguez, Charles           71\n",
            "11              9       Smith, Thomas           50\n",
            "12             10        Jones, James           72\n",
            "13             11      Miller, Thomas          NaN\n",
            "14            NaN                  NaN         NaN\n",
            "15         FEMALE                  NaN         NaN\n",
            "16            No.                 Name  Math grade\n",
            "17              1       Smith, Dorothy          92\n",
            "18              2      Brown, Patricia          96\n",
            "19              3    Johnson, Jennifer          55\n",
            "20              4     Miller, Jennifer          76\n",
            "21              5       Davis, Barbara          79\n",
            "22              6        Wilson, Maria          82\n",
            "23              7      Wilson, Dorothy          77\n",
            "24              8    Johnson, Jennifer          55\n",
            "25              9    Miller, Elizabeth         NaN\n",
            "26             10     Johnson, Barbara          89\n",
            "27             11         Miller, Mary          74\n",
            "   STUDENT GRADES           Unnamed: 1     Unnamed: 2\n",
            "0             NaN                  NaN            NaN\n",
            "1            MALE                  NaN            NaN\n",
            "2             No.                 Name  Science Grade\n",
            "3               1      Jones, Richard              90\n",
            "4               2       Jones, Charles             89\n",
            "5               3      Brown, Richard              63\n",
            "6               4      Johnson, James              55\n",
            "7               5   Rodriguez, Joseph              99\n",
            "8               6      Miller, Thomas              99\n",
            "9               7      Williams, John              89\n",
            "10              8  Rodriguez, Charles              93\n",
            "11              9       Smith, Thomas              68\n",
            "12             10        Jones, James              86\n",
            "13             11      Miller, Thomas              75\n",
            "14            NaN                  NaN            NaN\n",
            "15         FEMALE                  NaN            NaN\n",
            "16            No.                 Name  Science Grade\n",
            "17              1       Smith, Dorothy             57\n",
            "18              2      Brown, Patricia             80\n",
            "19              3    Johnson, Jennifer             77\n",
            "20              4     Miller, Jennifer             51\n",
            "21              5       Davis, Barbara             60\n",
            "22              6        Wilson, Maria            100\n",
            "23              7      Wilson, Dorothy             84\n",
            "24              8    Johnson, Jennifer             77\n",
            "25              9    Miller, Elizabeth             84\n",
            "26             10     Johnson, Barbara             54\n",
            "27             11         Miller, Mary             65\n"
          ]
        }
      ]
    },
    {
      "cell_type": "markdown",
      "source": [
        "**Merge male and female datasets for both math and science**"
      ],
      "metadata": {
        "id": "9N9YgAPCCB3t"
      }
    },
    {
      "cell_type": "code",
      "source": [
        "# Check the column names\n",
        "print(\"Math Dataset Columns:\", math_grade.columns)\n",
        "print(\"Science Dataset Columns:\", science_grade.columns)\n",
        "\n",
        "# If the column name is incorrect (e.g., spaces), rename or refer to it properly\n",
        "# For example, to rename columns to standard names:\n",
        "math_grade.columns = ['No.', 'Name', 'Math grade']  # Adjust according to your actual columns\n",
        "science_grade.columns = ['No.', 'Name', 'Science grade']  # Adjust according to your actual columns\n",
        "\n",
        "# Now proceed with merging male and female sections and sorting alphabetically by 'Name'\n",
        "\n",
        "# Math dataset processing\n",
        "math_combined = math_grade.dropna(subset=['Name'])  # Dropping rows where 'Name' is NaN\n",
        "math_combined = math_combined.sort_values(by='Name')  # Sorting alphabetically by 'Name'\n",
        "\n",
        "# Science dataset processing\n",
        "science_combined = science_grade.dropna(subset=['Name'])  # Dropping rows where 'Name' is NaN\n",
        "science_combined = science_combined.sort_values(by='Name')  # Sorting alphabetically by 'Name'\n",
        "\n",
        "# Reset index after sorting\n",
        "math_combined.reset_index(drop=True, inplace=True)\n",
        "science_combined.reset_index(drop=True, inplace=True)\n",
        "\n",
        "# Display sorted math and science datasets\n",
        "print(math_combined)\n",
        "print(science_combined)"
      ],
      "metadata": {
        "colab": {
          "base_uri": "https://localhost:8080/"
        },
        "collapsed": true,
        "id": "ksFPNQnxOx8v",
        "outputId": "d856a08b-ca0c-4073-fe91-3459a0e93394"
      },
      "execution_count": 37,
      "outputs": [
        {
          "output_type": "stream",
          "name": "stdout",
          "text": [
            "Math Dataset Columns: Index(['No.', 'Name', 'Math grade'], dtype='object')\n",
            "Science Dataset Columns: Index(['No.', 'Name', 'Science grade'], dtype='object')\n",
            "    No.                 Name  Math grade\n",
            "0     2      Brown, Patricia          96\n",
            "1     3      Brown, Richard          100\n",
            "2     5       Davis, Barbara          79\n",
            "3    10     Johnson, Barbara          89\n",
            "4     4      Johnson, James           55\n",
            "5     8    Johnson, Jennifer          55\n",
            "6     3    Johnson, Jennifer          55\n",
            "7     2       Jones, Charles          81\n",
            "8    10        Jones, James           72\n",
            "9     1      Jones, Richard           57\n",
            "10    9    Miller, Elizabeth         NaN\n",
            "11    4     Miller, Jennifer          76\n",
            "12   11         Miller, Mary          74\n",
            "13   11      Miller, Thomas          NaN\n",
            "14    6      Miller, Thomas           75\n",
            "15  No.                 Name  Math grade\n",
            "16  No.                 Name  Math grade\n",
            "17    8  Rodriguez, Charles           71\n",
            "18    5   Rodriguez, Joseph           64\n",
            "19    1       Smith, Dorothy          92\n",
            "20    9       Smith, Thomas           50\n",
            "21    7      Williams, John           71\n",
            "22    7      Wilson, Dorothy          77\n",
            "23    6        Wilson, Maria          82\n",
            "    No.                 Name  Science grade\n",
            "0     2      Brown, Patricia             80\n",
            "1     3      Brown, Richard              63\n",
            "2     5       Davis, Barbara             60\n",
            "3    10     Johnson, Barbara             54\n",
            "4     4      Johnson, James              55\n",
            "5     8    Johnson, Jennifer             77\n",
            "6     3    Johnson, Jennifer             77\n",
            "7     2       Jones, Charles             89\n",
            "8    10        Jones, James              86\n",
            "9     1      Jones, Richard              90\n",
            "10    9    Miller, Elizabeth             84\n",
            "11    4     Miller, Jennifer             51\n",
            "12   11         Miller, Mary             65\n",
            "13   11      Miller, Thomas              75\n",
            "14    6      Miller, Thomas              99\n",
            "15  No.                 Name  Science Grade\n",
            "16  No.                 Name  Science Grade\n",
            "17    8  Rodriguez, Charles              93\n",
            "18    5   Rodriguez, Joseph              99\n",
            "19    1       Smith, Dorothy             57\n",
            "20    9       Smith, Thomas              68\n",
            "21    7      Williams, John              89\n",
            "22    7      Wilson, Dorothy             84\n",
            "23    6        Wilson, Maria            100\n"
          ]
        }
      ]
    },
    {
      "cell_type": "markdown",
      "source": [
        "**Combine the two dataframes**"
      ],
      "metadata": {
        "id": "0fc1a7qLPbeb"
      }
    },
    {
      "cell_type": "code",
      "source": [
        "# Merge math and science grades based on the \"Name\" column\n",
        "student_grades = pd.merge(math_combined, science_combined, on=\"Name\")\n",
        "\n",
        "# Save the combined dataset to a CSV file\n",
        "student_grades.to_csv(\"/gdrive/MyDrive/Colab Notebooks/student_grades.csv\")\n",
        "\n",
        "# Display the combined dataframe\n",
        "print(student_grades)"
      ],
      "metadata": {
        "colab": {
          "base_uri": "https://localhost:8080/"
        },
        "id": "1JCHjLQePSXu",
        "outputId": "e8a563d0-52fd-4c9a-d8c3-ebc704758013"
      },
      "execution_count": 39,
      "outputs": [
        {
          "output_type": "stream",
          "name": "stdout",
          "text": [
            "   No._x                 Name  Math grade No._y  Science grade\n",
            "0      2      Brown, Patricia          96     2             80\n",
            "1      3      Brown, Richard          100     3             63\n",
            "2      5       Davis, Barbara          79     5             60\n",
            "3     10     Johnson, Barbara          89    10             54\n",
            "4      4      Johnson, James           55     4             55\n",
            "5      8    Johnson, Jennifer          55     8             77\n",
            "6      8    Johnson, Jennifer          55     3             77\n",
            "7      3    Johnson, Jennifer          55     8             77\n",
            "8      3    Johnson, Jennifer          55     3             77\n",
            "9      2       Jones, Charles          81     2             89\n",
            "10    10        Jones, James           72    10             86\n",
            "11     1      Jones, Richard           57     1             90\n",
            "12     9    Miller, Elizabeth         NaN     9             84\n",
            "13     4     Miller, Jennifer          76     4             51\n",
            "14    11         Miller, Mary          74    11             65\n",
            "15    11      Miller, Thomas          NaN    11             75\n",
            "16    11      Miller, Thomas          NaN     6             99\n",
            "17     6      Miller, Thomas           75    11             75\n",
            "18     6      Miller, Thomas           75     6             99\n",
            "19   No.                 Name  Math grade   No.  Science Grade\n",
            "20   No.                 Name  Math grade   No.  Science Grade\n",
            "21   No.                 Name  Math grade   No.  Science Grade\n",
            "22   No.                 Name  Math grade   No.  Science Grade\n",
            "23     8  Rodriguez, Charles           71     8             93\n",
            "24     5   Rodriguez, Joseph           64     5             99\n",
            "25     1       Smith, Dorothy          92     1             57\n",
            "26     9       Smith, Thomas           50     9             68\n",
            "27     7      Williams, John           71     7             89\n",
            "28     7      Wilson, Dorothy          77     7             84\n",
            "29     6        Wilson, Maria          82     6            100\n"
          ]
        }
      ]
    },
    {
      "cell_type": "markdown",
      "source": [
        "**Load and read the students_grades and add new column \"Average\"**"
      ],
      "metadata": {
        "id": "s65Yhc_YP9gL"
      }
    },
    {
      "cell_type": "code",
      "source": [
        "import pandas as pd\n",
        "\n",
        "# Load the student_grades dataset\n",
        "student_grades = pd.read_csv(\"/gdrive/MyDrive/Colab Notebooks/student_grades.csv\")\n",
        "\n",
        "# Convert 'Math grade' and 'Science grade' columns to numeric, invalid parsing will be set as NaN\n",
        "student_grades['Math grade'] = pd.to_numeric(student_grades['Math grade'], errors='coerce')\n",
        "student_grades['Science grade'] = pd.to_numeric(student_grades['Science grade'], errors='coerce')\n",
        "\n",
        "# Now create a new column 'Average' by averaging 'Math grade' and 'Science grade', ignoring NaN values\n",
        "student_grades['Average'] = student_grades[['Math grade', 'Science grade']].mean(axis=1)\n",
        "\n",
        "# Display the dataset with the new 'Average' column\n",
        "print(student_grades)"
      ],
      "metadata": {
        "colab": {
          "base_uri": "https://localhost:8080/"
        },
        "id": "6YuvIGtbQDUz",
        "outputId": "e9542ed9-0856-49d4-c2d3-51d3309aceb5"
      },
      "execution_count": 17,
      "outputs": [
        {
          "output_type": "stream",
          "name": "stdout",
          "text": [
            "    Unnamed: 0 Index_x                 Name  Math grade Index_y  \\\n",
            "0            0       2      Brown, Patricia        96.0       2   \n",
            "1            1       3      Brown, Richard        100.0       3   \n",
            "2            2       5       Davis, Barbara        79.0       5   \n",
            "3            3      10     Johnson, Barbara        89.0      10   \n",
            "4            4       4      Johnson, James         55.0       4   \n",
            "5            5       8    Johnson, Jennifer        55.0       8   \n",
            "6            6       8    Johnson, Jennifer        55.0       3   \n",
            "7            7       3    Johnson, Jennifer        55.0       8   \n",
            "8            8       3    Johnson, Jennifer        55.0       3   \n",
            "9            9       2       Jones, Charles        81.0       2   \n",
            "10          10      10        Jones, James         72.0      10   \n",
            "11          11       1      Jones, Richard         57.0       1   \n",
            "12          12       9    Miller, Elizabeth         NaN       9   \n",
            "13          13       4     Miller, Jennifer        76.0       4   \n",
            "14          14      11         Miller, Mary        74.0      11   \n",
            "15          15      11      Miller, Thomas          NaN      11   \n",
            "16          16      11      Miller, Thomas          NaN       6   \n",
            "17          17       6      Miller, Thomas         75.0      11   \n",
            "18          18       6      Miller, Thomas         75.0       6   \n",
            "19          19     No.                 Name         NaN     No.   \n",
            "20          20     No.                 Name         NaN     No.   \n",
            "21          21     No.                 Name         NaN     No.   \n",
            "22          22     No.                 Name         NaN     No.   \n",
            "23          23       8  Rodriguez, Charles         71.0       8   \n",
            "24          24       5   Rodriguez, Joseph         64.0       5   \n",
            "25          25       1       Smith, Dorothy        92.0       1   \n",
            "26          26       9       Smith, Thomas         50.0       9   \n",
            "27          27       7      Williams, John         71.0       7   \n",
            "28          28       7      Wilson, Dorothy        77.0       7   \n",
            "29          29       6        Wilson, Maria        82.0       6   \n",
            "\n",
            "    Science grade  Average  \n",
            "0            80.0     88.0  \n",
            "1            63.0     81.5  \n",
            "2            60.0     69.5  \n",
            "3            54.0     71.5  \n",
            "4            55.0     55.0  \n",
            "5            77.0     66.0  \n",
            "6            77.0     66.0  \n",
            "7            77.0     66.0  \n",
            "8            77.0     66.0  \n",
            "9            89.0     85.0  \n",
            "10           86.0     79.0  \n",
            "11           90.0     73.5  \n",
            "12           84.0     84.0  \n",
            "13           51.0     63.5  \n",
            "14           65.0     69.5  \n",
            "15           75.0     75.0  \n",
            "16           99.0     99.0  \n",
            "17           75.0     75.0  \n",
            "18           99.0     87.0  \n",
            "19            NaN      NaN  \n",
            "20            NaN      NaN  \n",
            "21            NaN      NaN  \n",
            "22            NaN      NaN  \n",
            "23           93.0     82.0  \n",
            "24           99.0     81.5  \n",
            "25           57.0     74.5  \n",
            "26           68.0     59.0  \n",
            "27           89.0     80.0  \n",
            "28           84.0     80.5  \n",
            "29          100.0     91.0  \n"
          ]
        }
      ]
    },
    {
      "cell_type": "markdown",
      "source": [
        "**Reshaping with the Average(highest to lowest average)**"
      ],
      "metadata": {
        "id": "Cfwv0ErlSFul"
      }
    },
    {
      "cell_type": "code",
      "source": [
        "# Sort the dataframe by the 'Average' column in descending order\n",
        "student_grades_sorted = student_grades.sort_values(by='Average', ascending=False)\n",
        "\n",
        "# Display the sorted dataframe\n",
        "print(student_grades_sorted)"
      ],
      "metadata": {
        "colab": {
          "base_uri": "https://localhost:8080/"
        },
        "id": "GiHelRyiRoVG",
        "outputId": "4a6bd7f5-be02-4bc9-e12a-50af3feca4c6"
      },
      "execution_count": 18,
      "outputs": [
        {
          "output_type": "stream",
          "name": "stdout",
          "text": [
            "    Unnamed: 0 Index_x                 Name  Math grade Index_y  \\\n",
            "16          16      11      Miller, Thomas          NaN       6   \n",
            "29          29       6        Wilson, Maria        82.0       6   \n",
            "0            0       2      Brown, Patricia        96.0       2   \n",
            "18          18       6      Miller, Thomas         75.0       6   \n",
            "9            9       2       Jones, Charles        81.0       2   \n",
            "12          12       9    Miller, Elizabeth         NaN       9   \n",
            "23          23       8  Rodriguez, Charles         71.0       8   \n",
            "24          24       5   Rodriguez, Joseph         64.0       5   \n",
            "1            1       3      Brown, Richard        100.0       3   \n",
            "28          28       7      Wilson, Dorothy        77.0       7   \n",
            "27          27       7      Williams, John         71.0       7   \n",
            "10          10      10        Jones, James         72.0      10   \n",
            "17          17       6      Miller, Thomas         75.0      11   \n",
            "15          15      11      Miller, Thomas          NaN      11   \n",
            "25          25       1       Smith, Dorothy        92.0       1   \n",
            "11          11       1      Jones, Richard         57.0       1   \n",
            "3            3      10     Johnson, Barbara        89.0      10   \n",
            "14          14      11         Miller, Mary        74.0      11   \n",
            "2            2       5       Davis, Barbara        79.0       5   \n",
            "8            8       3    Johnson, Jennifer        55.0       3   \n",
            "7            7       3    Johnson, Jennifer        55.0       8   \n",
            "6            6       8    Johnson, Jennifer        55.0       3   \n",
            "5            5       8    Johnson, Jennifer        55.0       8   \n",
            "13          13       4     Miller, Jennifer        76.0       4   \n",
            "26          26       9       Smith, Thomas         50.0       9   \n",
            "4            4       4      Johnson, James         55.0       4   \n",
            "19          19     No.                 Name         NaN     No.   \n",
            "20          20     No.                 Name         NaN     No.   \n",
            "21          21     No.                 Name         NaN     No.   \n",
            "22          22     No.                 Name         NaN     No.   \n",
            "\n",
            "    Science grade  Average  \n",
            "16           99.0     99.0  \n",
            "29          100.0     91.0  \n",
            "0            80.0     88.0  \n",
            "18           99.0     87.0  \n",
            "9            89.0     85.0  \n",
            "12           84.0     84.0  \n",
            "23           93.0     82.0  \n",
            "24           99.0     81.5  \n",
            "1            63.0     81.5  \n",
            "28           84.0     80.5  \n",
            "27           89.0     80.0  \n",
            "10           86.0     79.0  \n",
            "17           75.0     75.0  \n",
            "15           75.0     75.0  \n",
            "25           57.0     74.5  \n",
            "11           90.0     73.5  \n",
            "3            54.0     71.5  \n",
            "14           65.0     69.5  \n",
            "2            60.0     69.5  \n",
            "8            77.0     66.0  \n",
            "7            77.0     66.0  \n",
            "6            77.0     66.0  \n",
            "5            77.0     66.0  \n",
            "13           51.0     63.5  \n",
            "26           68.0     59.0  \n",
            "4            55.0     55.0  \n",
            "19            NaN      NaN  \n",
            "20            NaN      NaN  \n",
            "21            NaN      NaN  \n",
            "22            NaN      NaN  \n"
          ]
        }
      ]
    },
    {
      "cell_type": "markdown",
      "source": [
        "**Remove data duplications**"
      ],
      "metadata": {
        "id": "p7HzfRn7WW_y"
      }
    },
    {
      "cell_type": "code",
      "source": [
        "import pandas as pd\n",
        "\n",
        "# Assuming 'student_grades_sorted' contains Name, Math grade, Science grade, Average columns\n",
        "\n",
        "# Remove duplicates based on the 'Name' column\n",
        "student_grades_cleaned = student_grades_sorted.drop_duplicates(subset='Name')\n",
        "\n",
        "# Reset the index to renumber correctly\n",
        "student_grades_cleaned.reset_index(drop=True, inplace=True)\n",
        "\n",
        "# Add the 'No.' column for correct numbering, starting from 1\n",
        "student_grades_cleaned.insert(0, 'No.', range(1, len(student_grades_cleaned) + 1))\n",
        "\n",
        "# Create the 'Gender' column based on 'Name'\n",
        "# Assuming male names are in one set and female names in another, we create this mapping\n",
        "# Example: You need to know which names are male and which are female\n",
        "male_names = [\"Jones, Richard\", \"Jones, Charles\", \"Brown, Richard\", \"Johnson, James\", \"Rodriguez, Joseph\",\n",
        "              \"Miller, Thomas\", \"Williams, John\", \"Smith, Thomas\", \"Rodriguez, Charles\", \"Jones, James\"]\n",
        "\n",
        "student_grades_cleaned['Gender'] = student_grades_cleaned['Name'].apply(\n",
        "    lambda x: 'Male' if x in male_names else 'Female'\n",
        ")\n",
        "\n",
        "# Select only the required columns (drop unnecessary columns like Index_x and Index_y)\n",
        "student_grades_cleaned = student_grades_cleaned[['No.', 'Name', 'Gender', 'Math grade', 'Science grade', 'Average']]\n",
        "\n",
        "# Display the cleaned and renumbered dataframe\n",
        "print(student_grades_cleaned)"
      ],
      "metadata": {
        "colab": {
          "base_uri": "https://localhost:8080/"
        },
        "id": "-U7R3aTNS73M",
        "outputId": "08679445-dc62-45ad-dd59-74a6eecc12c5"
      },
      "execution_count": 41,
      "outputs": [
        {
          "output_type": "stream",
          "name": "stdout",
          "text": [
            "    No.                 Name  Gender  Math grade  Science grade  Average\n",
            "0     1      Miller, Thomas   Female         NaN           99.0     99.0\n",
            "1     2        Wilson, Maria  Female        82.0          100.0     91.0\n",
            "2     3      Brown, Patricia  Female        96.0           80.0     88.0\n",
            "3     4       Jones, Charles    Male        81.0           89.0     85.0\n",
            "4     5    Miller, Elizabeth  Female         NaN           84.0     84.0\n",
            "5     6  Rodriguez, Charles   Female        71.0           93.0     82.0\n",
            "6     7   Rodriguez, Joseph   Female        64.0           99.0     81.5\n",
            "7     8      Brown, Richard   Female       100.0           63.0     81.5\n",
            "8     9      Wilson, Dorothy  Female        77.0           84.0     80.5\n",
            "9    10      Williams, John   Female        71.0           89.0     80.0\n",
            "10   11        Jones, James   Female        72.0           86.0     79.0\n",
            "11   12       Smith, Dorothy  Female        92.0           57.0     74.5\n",
            "12   13      Jones, Richard   Female        57.0           90.0     73.5\n",
            "13   14     Johnson, Barbara  Female        89.0           54.0     71.5\n",
            "14   15         Miller, Mary  Female        74.0           65.0     69.5\n",
            "15   16       Davis, Barbara  Female        79.0           60.0     69.5\n",
            "16   17    Johnson, Jennifer  Female        55.0           77.0     66.0\n",
            "17   18     Miller, Jennifer  Female        76.0           51.0     63.5\n",
            "18   19       Smith, Thomas   Female        50.0           68.0     59.0\n",
            "19   20      Johnson, James   Female        55.0           55.0     55.0\n",
            "20   21                 Name  Female         NaN            NaN      NaN\n"
          ]
        },
        {
          "output_type": "stream",
          "name": "stderr",
          "text": [
            "<ipython-input-41-d589a4e40836>:20: SettingWithCopyWarning: \n",
            "A value is trying to be set on a copy of a slice from a DataFrame.\n",
            "Try using .loc[row_indexer,col_indexer] = value instead\n",
            "\n",
            "See the caveats in the documentation: https://pandas.pydata.org/pandas-docs/stable/user_guide/indexing.html#returning-a-view-versus-a-copy\n",
            "  student_grades_cleaned['Gender'] = student_grades_cleaned['Name'].apply(\n"
          ]
        }
      ]
    },
    {
      "cell_type": "markdown",
      "source": [
        "**Remove null, missing, and irrelevant data**"
      ],
      "metadata": {
        "id": "GtKkGuagWkEZ"
      }
    },
    {
      "cell_type": "code",
      "source": [
        "import pandas as pd\n",
        "\n",
        "# Assuming 'student_grades_sorted' contains Name, Math grade, Science grade, Average columns\n",
        "\n",
        "# Remove duplicates based on the 'Name' column\n",
        "student_grades_cleaned = student_grades_sorted.drop_duplicates(subset='Name')\n",
        "\n",
        "# Reset the index to renumber correctly\n",
        "student_grades_cleaned.reset_index(drop=True, inplace=True)\n",
        "\n",
        "# Add the 'No.' column for correct numbering, starting from 1\n",
        "student_grades_cleaned.insert(0, 'No.', range(1, len(student_grades_cleaned) + 1))\n",
        "\n",
        "# Select only the required columns, removing 'Gender'\n",
        "student_grades_cleaned = student_grades_cleaned[['No.', 'Name', 'Math grade', 'Science grade', 'Average']]\n",
        "\n",
        "# Drop rows with NaN values in the 'Math grade' or 'Science grade' columns\n",
        "student_grades_cleaned = student_grades_cleaned.dropna(subset=['Math grade', 'Science grade'])\n",
        "\n",
        "# Display the cleaned and renumbered dataframe\n",
        "print(student_grades_cleaned)"
      ],
      "metadata": {
        "colab": {
          "base_uri": "https://localhost:8080/"
        },
        "collapsed": true,
        "id": "O90OMoY4TPl5",
        "outputId": "cf2b81e5-e00e-4c6c-aa86-ab56b9c4c85e"
      },
      "execution_count": 43,
      "outputs": [
        {
          "output_type": "stream",
          "name": "stdout",
          "text": [
            "    No.                 Name  Math grade  Science grade  Average\n",
            "1     2        Wilson, Maria        82.0          100.0     91.0\n",
            "2     3      Brown, Patricia        96.0           80.0     88.0\n",
            "3     4       Jones, Charles        81.0           89.0     85.0\n",
            "5     6  Rodriguez, Charles         71.0           93.0     82.0\n",
            "6     7   Rodriguez, Joseph         64.0           99.0     81.5\n",
            "7     8      Brown, Richard        100.0           63.0     81.5\n",
            "8     9      Wilson, Dorothy        77.0           84.0     80.5\n",
            "9    10      Williams, John         71.0           89.0     80.0\n",
            "10   11        Jones, James         72.0           86.0     79.0\n",
            "11   12       Smith, Dorothy        92.0           57.0     74.5\n",
            "12   13      Jones, Richard         57.0           90.0     73.5\n",
            "13   14     Johnson, Barbara        89.0           54.0     71.5\n",
            "14   15         Miller, Mary        74.0           65.0     69.5\n",
            "15   16       Davis, Barbara        79.0           60.0     69.5\n",
            "16   17    Johnson, Jennifer        55.0           77.0     66.0\n",
            "17   18     Miller, Jennifer        76.0           51.0     63.5\n",
            "18   19       Smith, Thomas         50.0           68.0     59.0\n",
            "19   20      Johnson, James         55.0           55.0     55.0\n"
          ]
        }
      ]
    }
  ]
}