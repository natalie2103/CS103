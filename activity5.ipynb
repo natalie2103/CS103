{
  "nbformat": 4,
  "nbformat_minor": 0,
  "metadata": {
    "colab": {
      "provenance": [],
      "authorship_tag": "ABX9TyMIcP3k9Rml9KemXEDeVvSz",
      "include_colab_link": true
    },
    "kernelspec": {
      "name": "python3",
      "display_name": "Python 3"
    },
    "language_info": {
      "name": "python"
    }
  },
  "cells": [
    {
      "cell_type": "markdown",
      "metadata": {
        "id": "view-in-github",
        "colab_type": "text"
      },
      "source": [
        "<a href=\"https://colab.research.google.com/github/natalie2103/CS103/blob/main/activity5.ipynb\" target=\"_parent\"><img src=\"https://colab.research.google.com/assets/colab-badge.svg\" alt=\"Open In Colab\"/></a>"
      ]
    },
    {
      "cell_type": "code",
      "execution_count": 1,
      "metadata": {
        "colab": {
          "base_uri": "https://localhost:8080/"
        },
        "id": "TlLXfzbm7IpF",
        "outputId": "ac037a7b-7782-4e01-9d9e-d7c43a40416e"
      },
      "outputs": [
        {
          "output_type": "stream",
          "name": "stdout",
          "text": [
            "Mounted at /gdrive\n",
            "/gdrive\n"
          ]
        }
      ],
      "source": [
        "from google.colab import drive\n",
        "drive.mount('/gdrive')\n",
        "%cd /gdrive"
      ]
    },
    {
      "cell_type": "markdown",
      "source": [
        "**Read the datasets**"
      ],
      "metadata": {
        "id": "4v8EPwfQ_1Es"
      }
    },
    {
      "cell_type": "code",
      "source": [
        "import pandas as pd\n",
        "math_grade = pd.read_csv(\"/gdrive/MyDrive/Colab Notebooks/student_grade_math.csv\")\n",
        "science_grade = pd.read_csv(\"/gdrive/MyDrive/Colab Notebooks/student_grade_science.csv\")\n",
        "\n",
        "print(math_grade)\n",
        "print(science_grade)"
      ],
      "metadata": {
        "colab": {
          "base_uri": "https://localhost:8080/"
        },
        "id": "LLcoepgY8OP3",
        "outputId": "8638f097-8e03-4ea5-9848-dbcae7c8a423"
      },
      "execution_count": 2,
      "outputs": [
        {
          "output_type": "stream",
          "name": "stdout",
          "text": [
            "    Gender                 Name  Math_grade\n",
            "0     Male      Jones, Richard         57.0\n",
            "1     Male       Jones, Charles        81.0\n",
            "2     Male      Brown, Richard        100.0\n",
            "3     Male      Johnson, James         55.0\n",
            "4     Male   Rodriguez, Joseph         64.0\n",
            "5     Male      Miller, Thomas         75.0\n",
            "6     Male      Williams, John         71.0\n",
            "7     Male  Rodriguez, Charles         71.0\n",
            "8     Male       Smith, Thomas         50.0\n",
            "9     Male        Jones, James         72.0\n",
            "10    Male      Miller, Thomas          NaN\n",
            "11  Female       Smith, Dorothy        92.0\n",
            "12  Female      Brown, Patricia        96.0\n",
            "13  Female    Johnson, Jennifer        55.0\n",
            "14  Female     Miller, Jennifer        76.0\n",
            "15  Female       Davis, Barbara        79.0\n",
            "16  Female        Wilson, Maria        82.0\n",
            "17  Female      Wilson, Dorothy        77.0\n",
            "18  Female    Johnson, Jennifer        55.0\n",
            "19  Female    Miller, Elizabeth         NaN\n",
            "20  Female     Johnson, Barbara        89.0\n",
            "21  Female         Miller, Mary        74.0\n",
            "    Gender                 Name  Science_grade\n",
            "0     Male      Jones, Richard              90\n",
            "1     Male       Jones, Charles             89\n",
            "2     Male      Brown, Richard              63\n",
            "3     Male      Johnson, James              55\n",
            "4     Male   Rodriguez, Joseph              99\n",
            "5     Male      Miller, Thomas              99\n",
            "6     Male      Williams, John              89\n",
            "7     Male  Rodriguez, Charles              93\n",
            "8     Male       Smith, Thomas              68\n",
            "9     Male        Jones, James              86\n",
            "10    Male      Miller, Thomas              75\n",
            "11  Female       Smith, Dorothy             57\n",
            "12  Female      Brown, Patricia             80\n",
            "13  Female    Johnson, Jennifer             77\n",
            "14  Female     Miller, Jennifer             51\n",
            "15  Female       Davis, Barbara             60\n",
            "16  Female        Wilson, Maria            100\n",
            "17  Female      Wilson, Dorothy             84\n",
            "18  Female    Johnson, Jennifer             77\n",
            "19  Female    Miller, Elizabeth             84\n",
            "20  Female     Johnson, Barbara             54\n",
            "21  Female         Miller, Mary             65\n"
          ]
        }
      ]
    },
    {
      "cell_type": "markdown",
      "source": [
        "**Merge male and female datasets for both math and science**"
      ],
      "metadata": {
        "id": "9N9YgAPCCB3t"
      }
    },
    {
      "cell_type": "code",
      "source": [
        "# Check the column names\n",
        "print(\"Math Dataset Columns:\", math_grade.columns)\n",
        "print(\"Science Dataset Columns:\", science_grade.columns)\n",
        "\n",
        "# Math dataset processing\n",
        "math_combined = math_grade.dropna(subset=['Name'])\n",
        "math_combined = math_combined.sort_values(by='Name')\n",
        "\n",
        "# Science dataset processing\n",
        "science_combined = science_grade.dropna(subset=['Name'])\n",
        "science_combined = science_combined.sort_values(by='Name')\n",
        "\n",
        "# Reset index after sorting\n",
        "math_combined.reset_index(drop=True, inplace=True)\n",
        "science_combined.reset_index(drop=True, inplace=True)\n",
        "\n",
        "# Display sorted math and science datasets\n",
        "print(math_combined)\n",
        "print(science_combined)"
      ],
      "metadata": {
        "colab": {
          "base_uri": "https://localhost:8080/"
        },
        "collapsed": true,
        "id": "ksFPNQnxOx8v",
        "outputId": "7b3d92cb-29b9-4ab9-bb5d-ab82a95fcb08"
      },
      "execution_count": 3,
      "outputs": [
        {
          "output_type": "stream",
          "name": "stdout",
          "text": [
            "Math Dataset Columns: Index(['Gender', 'Name', 'Math_grade'], dtype='object')\n",
            "Science Dataset Columns: Index(['Gender', 'Name', 'Science_grade'], dtype='object')\n",
            "    Gender                 Name  Math_grade\n",
            "0   Female      Brown, Patricia        96.0\n",
            "1     Male      Brown, Richard        100.0\n",
            "2   Female       Davis, Barbara        79.0\n",
            "3   Female     Johnson, Barbara        89.0\n",
            "4     Male      Johnson, James         55.0\n",
            "5   Female    Johnson, Jennifer        55.0\n",
            "6   Female    Johnson, Jennifer        55.0\n",
            "7     Male       Jones, Charles        81.0\n",
            "8     Male        Jones, James         72.0\n",
            "9     Male      Jones, Richard         57.0\n",
            "10  Female    Miller, Elizabeth         NaN\n",
            "11  Female     Miller, Jennifer        76.0\n",
            "12  Female         Miller, Mary        74.0\n",
            "13    Male      Miller, Thomas         75.0\n",
            "14    Male      Miller, Thomas          NaN\n",
            "15    Male  Rodriguez, Charles         71.0\n",
            "16    Male   Rodriguez, Joseph         64.0\n",
            "17  Female       Smith, Dorothy        92.0\n",
            "18    Male       Smith, Thomas         50.0\n",
            "19    Male      Williams, John         71.0\n",
            "20  Female      Wilson, Dorothy        77.0\n",
            "21  Female        Wilson, Maria        82.0\n",
            "    Gender                 Name  Science_grade\n",
            "0   Female      Brown, Patricia             80\n",
            "1     Male      Brown, Richard              63\n",
            "2   Female       Davis, Barbara             60\n",
            "3   Female     Johnson, Barbara             54\n",
            "4     Male      Johnson, James              55\n",
            "5   Female    Johnson, Jennifer             77\n",
            "6   Female    Johnson, Jennifer             77\n",
            "7     Male       Jones, Charles             89\n",
            "8     Male        Jones, James              86\n",
            "9     Male      Jones, Richard              90\n",
            "10  Female    Miller, Elizabeth             84\n",
            "11  Female     Miller, Jennifer             51\n",
            "12  Female         Miller, Mary             65\n",
            "13    Male      Miller, Thomas              99\n",
            "14    Male      Miller, Thomas              75\n",
            "15    Male  Rodriguez, Charles              93\n",
            "16    Male   Rodriguez, Joseph              99\n",
            "17  Female       Smith, Dorothy             57\n",
            "18    Male       Smith, Thomas              68\n",
            "19    Male      Williams, John              89\n",
            "20  Female      Wilson, Dorothy             84\n",
            "21  Female        Wilson, Maria            100\n"
          ]
        }
      ]
    },
    {
      "cell_type": "markdown",
      "source": [
        "**Combine the two dataframes**"
      ],
      "metadata": {
        "id": "0fc1a7qLPbeb"
      }
    },
    {
      "cell_type": "code",
      "source": [
        "# Merge math and science grades based on the \"Name\" column\n",
        "student_grades = pd.merge(math_combined, science_combined, on=\"Name\")\n",
        "\n",
        "# Save the combined dataset to a CSV file\n",
        "student_grades.to_csv(\"/gdrive/MyDrive/Colab Notebooks/student_grades.csv\")\n",
        "\n",
        "# Display the combined dataframe\n",
        "print(student_grades)"
      ],
      "metadata": {
        "colab": {
          "base_uri": "https://localhost:8080/"
        },
        "id": "1JCHjLQePSXu",
        "outputId": "50ae51c7-afea-4cab-923f-3fce0514f0dc"
      },
      "execution_count": 4,
      "outputs": [
        {
          "output_type": "stream",
          "name": "stdout",
          "text": [
            "   Gender_x                 Name  Math_grade Gender_y  Science_grade\n",
            "0    Female      Brown, Patricia        96.0   Female             80\n",
            "1      Male      Brown, Richard        100.0     Male             63\n",
            "2    Female       Davis, Barbara        79.0   Female             60\n",
            "3    Female     Johnson, Barbara        89.0   Female             54\n",
            "4      Male      Johnson, James         55.0     Male             55\n",
            "5    Female    Johnson, Jennifer        55.0   Female             77\n",
            "6    Female    Johnson, Jennifer        55.0   Female             77\n",
            "7    Female    Johnson, Jennifer        55.0   Female             77\n",
            "8    Female    Johnson, Jennifer        55.0   Female             77\n",
            "9      Male       Jones, Charles        81.0     Male             89\n",
            "10     Male        Jones, James         72.0     Male             86\n",
            "11     Male      Jones, Richard         57.0     Male             90\n",
            "12   Female    Miller, Elizabeth         NaN   Female             84\n",
            "13   Female     Miller, Jennifer        76.0   Female             51\n",
            "14   Female         Miller, Mary        74.0   Female             65\n",
            "15     Male      Miller, Thomas         75.0     Male             99\n",
            "16     Male      Miller, Thomas         75.0     Male             75\n",
            "17     Male      Miller, Thomas          NaN     Male             99\n",
            "18     Male      Miller, Thomas          NaN     Male             75\n",
            "19     Male  Rodriguez, Charles         71.0     Male             93\n",
            "20     Male   Rodriguez, Joseph         64.0     Male             99\n",
            "21   Female       Smith, Dorothy        92.0   Female             57\n",
            "22     Male       Smith, Thomas         50.0     Male             68\n",
            "23     Male      Williams, John         71.0     Male             89\n",
            "24   Female      Wilson, Dorothy        77.0   Female             84\n",
            "25   Female        Wilson, Maria        82.0   Female            100\n"
          ]
        }
      ]
    },
    {
      "cell_type": "markdown",
      "source": [
        "**Load and read the students_grades and add new column \"Average\"**"
      ],
      "metadata": {
        "id": "s65Yhc_YP9gL"
      }
    },
    {
      "cell_type": "code",
      "source": [
        "import pandas as pd\n",
        "\n",
        "# Load the student_grades dataset\n",
        "student_grades = pd.read_csv(\"/gdrive/MyDrive/Colab Notebooks/student_grades.csv\")\n",
        "\n",
        "# Convert 'Math grade' and 'Science grade' columns to numeric, invalid parsing will be set as NaN\n",
        "student_grades['Math_grade'] = pd.to_numeric(student_grades['Math_grade'], errors='coerce')\n",
        "student_grades['Science_grade'] = pd.to_numeric(student_grades['Science_grade'], errors='coerce')\n",
        "\n",
        "# Create a new column 'Average' by averaging 'Math grade' and 'Science grade', ignoring NaN values\n",
        "student_grades['Average'] = student_grades[['Math_grade', 'Science_grade']].mean(axis=1)\n",
        "\n",
        "# Display the dataset with the new 'Average' column\n",
        "print(student_grades)"
      ],
      "metadata": {
        "colab": {
          "base_uri": "https://localhost:8080/"
        },
        "id": "6YuvIGtbQDUz",
        "outputId": "cec3f232-4f76-4dcb-df66-c68bf9577fb2"
      },
      "execution_count": 7,
      "outputs": [
        {
          "output_type": "stream",
          "name": "stdout",
          "text": [
            "    Unnamed: 0 Gender_x                 Name  Math_grade Gender_y  \\\n",
            "0            0   Female      Brown, Patricia        96.0   Female   \n",
            "1            1     Male      Brown, Richard        100.0     Male   \n",
            "2            2   Female       Davis, Barbara        79.0   Female   \n",
            "3            3   Female     Johnson, Barbara        89.0   Female   \n",
            "4            4     Male      Johnson, James         55.0     Male   \n",
            "5            5   Female    Johnson, Jennifer        55.0   Female   \n",
            "6            6   Female    Johnson, Jennifer        55.0   Female   \n",
            "7            7   Female    Johnson, Jennifer        55.0   Female   \n",
            "8            8   Female    Johnson, Jennifer        55.0   Female   \n",
            "9            9     Male       Jones, Charles        81.0     Male   \n",
            "10          10     Male        Jones, James         72.0     Male   \n",
            "11          11     Male      Jones, Richard         57.0     Male   \n",
            "12          12   Female    Miller, Elizabeth         NaN   Female   \n",
            "13          13   Female     Miller, Jennifer        76.0   Female   \n",
            "14          14   Female         Miller, Mary        74.0   Female   \n",
            "15          15     Male      Miller, Thomas         75.0     Male   \n",
            "16          16     Male      Miller, Thomas         75.0     Male   \n",
            "17          17     Male      Miller, Thomas          NaN     Male   \n",
            "18          18     Male      Miller, Thomas          NaN     Male   \n",
            "19          19     Male  Rodriguez, Charles         71.0     Male   \n",
            "20          20     Male   Rodriguez, Joseph         64.0     Male   \n",
            "21          21   Female       Smith, Dorothy        92.0   Female   \n",
            "22          22     Male       Smith, Thomas         50.0     Male   \n",
            "23          23     Male      Williams, John         71.0     Male   \n",
            "24          24   Female      Wilson, Dorothy        77.0   Female   \n",
            "25          25   Female        Wilson, Maria        82.0   Female   \n",
            "\n",
            "    Science_grade  Average  \n",
            "0              80     88.0  \n",
            "1              63     81.5  \n",
            "2              60     69.5  \n",
            "3              54     71.5  \n",
            "4              55     55.0  \n",
            "5              77     66.0  \n",
            "6              77     66.0  \n",
            "7              77     66.0  \n",
            "8              77     66.0  \n",
            "9              89     85.0  \n",
            "10             86     79.0  \n",
            "11             90     73.5  \n",
            "12             84     84.0  \n",
            "13             51     63.5  \n",
            "14             65     69.5  \n",
            "15             99     87.0  \n",
            "16             75     75.0  \n",
            "17             99     99.0  \n",
            "18             75     75.0  \n",
            "19             93     82.0  \n",
            "20             99     81.5  \n",
            "21             57     74.5  \n",
            "22             68     59.0  \n",
            "23             89     80.0  \n",
            "24             84     80.5  \n",
            "25            100     91.0  \n"
          ]
        }
      ]
    },
    {
      "cell_type": "markdown",
      "source": [
        "**Reshaping with the Average(highest to lowest average)**"
      ],
      "metadata": {
        "id": "Cfwv0ErlSFul"
      }
    },
    {
      "cell_type": "code",
      "source": [
        "# Sort the dataframe by the 'Average' column in descending order\n",
        "student_grades_sorted = student_grades.sort_values(by='Average', ascending=False)\n",
        "\n",
        "# Display the sorted dataframe\n",
        "print(student_grades_sorted)"
      ],
      "metadata": {
        "colab": {
          "base_uri": "https://localhost:8080/"
        },
        "id": "GiHelRyiRoVG",
        "outputId": "7a8f7633-5e41-4846-875f-faa2678c4cd0"
      },
      "execution_count": 8,
      "outputs": [
        {
          "output_type": "stream",
          "name": "stdout",
          "text": [
            "    Unnamed: 0 Gender_x                 Name  Math_grade Gender_y  \\\n",
            "17          17     Male      Miller, Thomas          NaN     Male   \n",
            "25          25   Female        Wilson, Maria        82.0   Female   \n",
            "0            0   Female      Brown, Patricia        96.0   Female   \n",
            "15          15     Male      Miller, Thomas         75.0     Male   \n",
            "9            9     Male       Jones, Charles        81.0     Male   \n",
            "12          12   Female    Miller, Elizabeth         NaN   Female   \n",
            "19          19     Male  Rodriguez, Charles         71.0     Male   \n",
            "20          20     Male   Rodriguez, Joseph         64.0     Male   \n",
            "1            1     Male      Brown, Richard        100.0     Male   \n",
            "24          24   Female      Wilson, Dorothy        77.0   Female   \n",
            "23          23     Male      Williams, John         71.0     Male   \n",
            "10          10     Male        Jones, James         72.0     Male   \n",
            "18          18     Male      Miller, Thomas          NaN     Male   \n",
            "16          16     Male      Miller, Thomas         75.0     Male   \n",
            "21          21   Female       Smith, Dorothy        92.0   Female   \n",
            "11          11     Male      Jones, Richard         57.0     Male   \n",
            "3            3   Female     Johnson, Barbara        89.0   Female   \n",
            "14          14   Female         Miller, Mary        74.0   Female   \n",
            "2            2   Female       Davis, Barbara        79.0   Female   \n",
            "8            8   Female    Johnson, Jennifer        55.0   Female   \n",
            "7            7   Female    Johnson, Jennifer        55.0   Female   \n",
            "6            6   Female    Johnson, Jennifer        55.0   Female   \n",
            "5            5   Female    Johnson, Jennifer        55.0   Female   \n",
            "13          13   Female     Miller, Jennifer        76.0   Female   \n",
            "22          22     Male       Smith, Thomas         50.0     Male   \n",
            "4            4     Male      Johnson, James         55.0     Male   \n",
            "\n",
            "    Science_grade  Average  \n",
            "17             99     99.0  \n",
            "25            100     91.0  \n",
            "0              80     88.0  \n",
            "15             99     87.0  \n",
            "9              89     85.0  \n",
            "12             84     84.0  \n",
            "19             93     82.0  \n",
            "20             99     81.5  \n",
            "1              63     81.5  \n",
            "24             84     80.5  \n",
            "23             89     80.0  \n",
            "10             86     79.0  \n",
            "18             75     75.0  \n",
            "16             75     75.0  \n",
            "21             57     74.5  \n",
            "11             90     73.5  \n",
            "3              54     71.5  \n",
            "14             65     69.5  \n",
            "2              60     69.5  \n",
            "8              77     66.0  \n",
            "7              77     66.0  \n",
            "6              77     66.0  \n",
            "5              77     66.0  \n",
            "13             51     63.5  \n",
            "22             68     59.0  \n",
            "4              55     55.0  \n"
          ]
        }
      ]
    },
    {
      "cell_type": "markdown",
      "source": [
        "**Remove data duplications**"
      ],
      "metadata": {
        "id": "p7HzfRn7WW_y"
      }
    },
    {
      "cell_type": "code",
      "source": [
        "import pandas as pd\n",
        "\n",
        "# Remove duplicates based on the 'Name' column\n",
        "student_grades_cleaned = student_grades_sorted.drop_duplicates(subset='Name')\n",
        "\n",
        "# Reset the index to renumber correctly\n",
        "student_grades_cleaned.reset_index(drop=True, inplace=True)\n",
        "\n",
        "# Rename 'Gender_x' column to 'Gender'\n",
        "student_grades_cleaned.rename(columns={'Gender_x': 'Gender'}, inplace=True)\n",
        "\n",
        "# Select only the required columns\n",
        "student_grades_cleaned = student_grades_cleaned[['Gender', 'Name', 'Math_grade', 'Science_grade', 'Average']]\n",
        "\n",
        "# Display the cleaned and renumbered dataframe\n",
        "print(student_grades_cleaned)"
      ],
      "metadata": {
        "colab": {
          "base_uri": "https://localhost:8080/"
        },
        "id": "-U7R3aTNS73M",
        "outputId": "2ae9cd8a-1f25-4f84-aac1-f612757d6c48"
      },
      "execution_count": 21,
      "outputs": [
        {
          "output_type": "stream",
          "name": "stdout",
          "text": [
            "    Gender                 Name  Math_grade  Science_grade  Average\n",
            "0     Male      Miller, Thomas          NaN             99     99.0\n",
            "1   Female        Wilson, Maria        82.0            100     91.0\n",
            "2   Female      Brown, Patricia        96.0             80     88.0\n",
            "3     Male       Jones, Charles        81.0             89     85.0\n",
            "4   Female    Miller, Elizabeth         NaN             84     84.0\n",
            "5     Male  Rodriguez, Charles         71.0             93     82.0\n",
            "6     Male   Rodriguez, Joseph         64.0             99     81.5\n",
            "7     Male      Brown, Richard        100.0             63     81.5\n",
            "8   Female      Wilson, Dorothy        77.0             84     80.5\n",
            "9     Male      Williams, John         71.0             89     80.0\n",
            "10    Male        Jones, James         72.0             86     79.0\n",
            "11  Female       Smith, Dorothy        92.0             57     74.5\n",
            "12    Male      Jones, Richard         57.0             90     73.5\n",
            "13  Female     Johnson, Barbara        89.0             54     71.5\n",
            "14  Female         Miller, Mary        74.0             65     69.5\n",
            "15  Female       Davis, Barbara        79.0             60     69.5\n",
            "16  Female    Johnson, Jennifer        55.0             77     66.0\n",
            "17  Female     Miller, Jennifer        76.0             51     63.5\n",
            "18    Male       Smith, Thomas         50.0             68     59.0\n",
            "19    Male      Johnson, James         55.0             55     55.0\n"
          ]
        },
        {
          "output_type": "stream",
          "name": "stderr",
          "text": [
            "<ipython-input-21-a397a5a49813>:10: SettingWithCopyWarning: \n",
            "A value is trying to be set on a copy of a slice from a DataFrame\n",
            "\n",
            "See the caveats in the documentation: https://pandas.pydata.org/pandas-docs/stable/user_guide/indexing.html#returning-a-view-versus-a-copy\n",
            "  student_grades_cleaned.rename(columns={'Gender_x': 'Gender'}, inplace=True)\n"
          ]
        }
      ]
    },
    {
      "cell_type": "markdown",
      "source": [
        "**Remove null, missing, and irrelevant data**"
      ],
      "metadata": {
        "id": "GtKkGuagWkEZ"
      }
    },
    {
      "cell_type": "code",
      "source": [
        "import pandas as pd\n",
        "\n",
        "# Remove duplicates based on the 'Name' column\n",
        "student_grades_cleaned = student_grades_sorted.drop_duplicates(subset='Name')\n",
        "\n",
        "# Reset the index to renumber correctly\n",
        "student_grades_cleaned.reset_index(drop=True, inplace=True)\n",
        "\n",
        "# Rename 'Gender_x' column to 'Gender'\n",
        "student_grades_cleaned.rename(columns={'Gender_x': 'Gender'}, inplace=True)\n",
        "\n",
        "student_grades_cleaned = student_grades_cleaned[['Gender', 'Name', 'Math_grade', 'Science_grade', 'Average']]\n",
        "\n",
        "# Drop rows with NaN values\n",
        "student_grades_cleaned = student_grades_cleaned.dropna(subset=['Math_grade', 'Science_grade'])\n",
        "\n",
        "print(student_grades_cleaned)"
      ],
      "metadata": {
        "colab": {
          "base_uri": "https://localhost:8080/"
        },
        "collapsed": true,
        "id": "O90OMoY4TPl5",
        "outputId": "f7bc5e03-b476-491d-926f-492e4823011e"
      },
      "execution_count": 22,
      "outputs": [
        {
          "output_type": "stream",
          "name": "stdout",
          "text": [
            "    Gender                 Name  Math_grade  Science_grade  Average\n",
            "1   Female        Wilson, Maria        82.0            100     91.0\n",
            "2   Female      Brown, Patricia        96.0             80     88.0\n",
            "3     Male       Jones, Charles        81.0             89     85.0\n",
            "5     Male  Rodriguez, Charles         71.0             93     82.0\n",
            "6     Male   Rodriguez, Joseph         64.0             99     81.5\n",
            "7     Male      Brown, Richard        100.0             63     81.5\n",
            "8   Female      Wilson, Dorothy        77.0             84     80.5\n",
            "9     Male      Williams, John         71.0             89     80.0\n",
            "10    Male        Jones, James         72.0             86     79.0\n",
            "11  Female       Smith, Dorothy        92.0             57     74.5\n",
            "12    Male      Jones, Richard         57.0             90     73.5\n",
            "13  Female     Johnson, Barbara        89.0             54     71.5\n",
            "14  Female         Miller, Mary        74.0             65     69.5\n",
            "15  Female       Davis, Barbara        79.0             60     69.5\n",
            "16  Female    Johnson, Jennifer        55.0             77     66.0\n",
            "17  Female     Miller, Jennifer        76.0             51     63.5\n",
            "18    Male       Smith, Thomas         50.0             68     59.0\n",
            "19    Male      Johnson, James         55.0             55     55.0\n"
          ]
        },
        {
          "output_type": "stream",
          "name": "stderr",
          "text": [
            "<ipython-input-22-2ba3107b623b>:10: SettingWithCopyWarning: \n",
            "A value is trying to be set on a copy of a slice from a DataFrame\n",
            "\n",
            "See the caveats in the documentation: https://pandas.pydata.org/pandas-docs/stable/user_guide/indexing.html#returning-a-view-versus-a-copy\n",
            "  student_grades_cleaned.rename(columns={'Gender_x': 'Gender'}, inplace=True)\n"
          ]
        }
      ]
    }
  ]
}